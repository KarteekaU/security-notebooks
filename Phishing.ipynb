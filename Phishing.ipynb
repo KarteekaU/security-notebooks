{
 "cells": [
  {
   "cell_type": "code",
   "execution_count": 2,
   "id": "7b64406f",
   "metadata": {},
   "outputs": [
    {
     "ename": "SyntaxError",
     "evalue": "invalid syntax (3712564365.py, line 3)",
     "output_type": "error",
     "traceback": [
      "\u001b[0;36m  Input \u001b[0;32mIn [2]\u001b[0;36m\u001b[0m\n\u001b[0;31m    https://archive.ics.uci.edu/ml/datasets/phishing+websites\u001b[0m\n\u001b[0m          ^\u001b[0m\n\u001b[0;31mSyntaxError\u001b[0m\u001b[0;31m:\u001b[0m invalid syntax\n"
     ]
    }
   ],
   "source": [
    "# In class -01/28\n",
    "\n",
    "https://archive.ics.uci.edu/ml/datasets/phishing+websites\n",
    "\n",
    "# Business Understanding\n",
    "\n",
    "\n",
    "Suspected Phishing urls are submitted to PhishTank. They are classified by the \"community\" as being either actual phishes or not. Therefore, we have a classification task.\n",
    "\n",
    "What features could we use to try to use ML to predict valid from invalid phishes?\n",
    "\n",
    "We can see some valid phisheson PhishTank using this query: https://phishtank.org/phish_search.php?valid=y&active=All&Search=Search\n",
    "\n",
    "Here are some example phish url: \n",
    "- https://help-recovery-identity-support-international.web.id/confirmid.php\n",
    "- https://234565676868--3456556757.repl.co/\n",
    "- http://activate.facebook.fblogins.net/88adbao798283o8298398?login.asp\n",
    "- http://drive--google.com/luke.johnson\n",
    "- http://efax.hosting.com.mailru382.co/efaxdelivery/2017Dk4h325RE3\n",
    "\n",
    "Let's look at this one:\n",
    "\n",
    "- https://help-recovery-identity-support-international.web.id/confirmid.php\n",
    "\n",
    "We can break it into its URL pieces:\n",
    "- PATH: /confirmid.php\n",
    "  * \"Is it a .php?\"\n",
    "    - binary feature\n",
    "  * \"How long is the path?\"\n",
    "    - integer\n",
    "    - continuous\n",
    "  * \"How many unique characters in the path?\"\n",
    "- DOMAIN: help-recovery-identity-support-international.web.id\n",
    "  * text analytics, are there certain substrings that are giveaways of a phish?\n",
    "  * Is readable?\n",
    "  * Is there a top-level domain that is not the last entry in the list?\n",
    "  * count of subdomains?\n",
    "  * WHOIS lookup -- age of the domain?\n",
    "  * top-level domain\n",
    "- PROTOCOL: https://"
   ]
  },
  {
   "cell_type": "code",
   "execution_count": 4,
   "id": "759904f9-5e71-4326-9f73-545cf7faf150",
   "metadata": {},
   "outputs": [
    {
     "name": "stdout",
     "output_type": "stream",
     "text": [
      "--2022-02-04 17:43:31--  https://research.aalto.fi/files/16859732/urlset.csv.zip\n",
      "Resolving research.aalto.fi (research.aalto.fi)... 34.248.98.230, 34.253.178.11\n",
      "Connecting to research.aalto.fi (research.aalto.fi)|34.248.98.230|:443... connected.\n",
      "HTTP request sent, awaiting response... 302 302\n",
      "Location: https://acris.aalto.fi/ws/portalfiles/portal/16859732/urlset.csv.zip [following]\n",
      "--2022-02-04 17:43:32--  https://acris.aalto.fi/ws/portalfiles/portal/16859732/urlset.csv.zip\n",
      "Resolving acris.aalto.fi (acris.aalto.fi)... 130.233.208.8\n",
      "Connecting to acris.aalto.fi (acris.aalto.fi)|130.233.208.8|:443... connected.\n",
      "HTTP request sent, awaiting response... 200 200\n",
      "Length: unspecified [multipart/x-zip]\n",
      "Saving to: ‘urlset.csv.zip’\n",
      "\n",
      "urlset.csv.zip          [<=>                 ]   3.24M   466KB/s    in 8.9s    \n",
      "\n",
      "2022-02-04 17:43:41 (372 KB/s) - ‘urlset.csv.zip’ saved [3400239]\n",
      "\n"
     ]
    }
   ],
   "source": [
    "!wget https://research.aalto.fi/files/16859732/urlset.csv.zip "
   ]
  },
  {
   "cell_type": "code",
   "execution_count": null,
   "id": "72ab15f0-01fa-40f3-a1d5-3958700f1e6e",
   "metadata": {},
   "outputs": [],
   "source": [
    "!unzip urlset.csv.zip"
   ]
  }
 ],
 "metadata": {
  "kernelspec": {
   "display_name": "Python 3 (ipykernel)",
   "language": "python",
   "name": "python3"
  },
  "language_info": {
   "codemirror_mode": {
    "name": "ipython",
    "version": 3
   },
   "file_extension": ".py",
   "mimetype": "text/x-python",
   "name": "python",
   "nbconvert_exporter": "python",
   "pygments_lexer": "ipython3",
   "version": "3.9.7"
  }
 },
 "nbformat": 4,
 "nbformat_minor": 5
}
