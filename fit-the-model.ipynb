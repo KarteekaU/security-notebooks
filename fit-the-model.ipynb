{
 "cells": [
  {
   "cell_type": "markdown",
   "id": "0c34cb8f-6d6d-4a75-8c4d-2ce26d74719a",
   "metadata": {},
   "source": [
    "Goals"
   ]
  },
  {
   "cell_type": "code",
   "execution_count": 4,
   "id": "cf577f36-fe9e-4def-b94d-54dc50d21727",
   "metadata": {},
   "outputs": [],
   "source": [
    "# load the model\n",
    "# receive the data for a prediction\n",
    "# get a prediction\n",
    "# return it"
   ]
  },
  {
   "cell_type": "code",
   "execution_count": 5,
   "id": "c08fa56a-a08e-4d92-b77f-ca2fa9c0d846",
   "metadata": {},
   "outputs": [
    {
     "ename": "SyntaxError",
     "evalue": "invalid syntax (1928716258.py, line 5)",
     "output_type": "error",
     "traceback": [
      "\u001b[0;36m  Input \u001b[0;32mIn [5]\u001b[0;36m\u001b[0m\n\u001b[0;31m    the_model_string =\u001b[0m\n\u001b[0m                       ^\u001b[0m\n\u001b[0;31mSyntaxError\u001b[0m\u001b[0;31m:\u001b[0m invalid syntax\n"
     ]
    }
   ],
   "source": [
    "# load the model\n",
    "\n",
    "# READ FROM scikit learn model persistence\n",
    "\n",
    "the_model_string = \n",
    "type(the_model_string)\n"
   ]
  },
  {
   "cell_type": "code",
   "execution_count": null,
   "id": "27317dfc-9b7c-4fda-ba5c-cf80bbc46864",
   "metadata": {},
   "outputs": [],
   "source": [
    "import pickle\n",
    "clf = pickle.loads(the_model_string)"
   ]
  },
  {
   "cell_type": "code",
   "execution_count": null,
   "id": "5f918712-1252-439e-9858-2cf851c3f1d4",
   "metadata": {},
   "outputs": [],
   "source": [
    "with open('clf-string.pickle', 'rb') as f:\n",
    "    clf = pickle.load(f)"
   ]
  },
  {
   "cell_type": "code",
   "execution_count": null,
   "id": "30a8f718-08a0-44f7-99c2-9c85cd3fe122",
   "metadata": {},
   "outputs": [],
   "source": [
    "import numpy as np"
   ]
  },
  {
   "cell_type": "code",
   "execution_count": null,
   "id": "ff3ecd39-86f0-42ec-ac63-d02a00ca3c0c",
   "metadata": {},
   "outputs": [],
   "source": [
    "# check the hmac\n",
    "\n",
    "secret_key = os.get_env(\n",
    "pickled_string = load_from_database()\n",
    "pickled_string_hmac_hash = load_this_too_from_db()\n"
   ]
  },
  {
   "cell_type": "code",
   "execution_count": 6,
   "id": "7a5f91aa-85b7-40f4-9afd-021151606be8",
   "metadata": {},
   "outputs": [
    {
     "data": {
      "text/plain": [
       "'/home/jovyan/work'"
      ]
     },
     "execution_count": 6,
     "metadata": {},
     "output_type": "execute_result"
    }
   ],
   "source": [
    "import os\n",
    "os.getcwd()"
   ]
  },
  {
   "cell_type": "code",
   "execution_count": null,
   "id": "ea3fa755-7335-4ebc-a691-d4af52f1e341",
   "metadata": {},
   "outputs": [],
   "source": [
    "from joblib import dump, load\n",
    "\n",
    "with open('clf-string.pickle', 'w') as f:\n",
    "    s = pickle.dumps(clf)\n",
    "    f.write(s)\n",
    "\n",
    "with open('clf.pickle') as f:\n",
    "    pickle.dump(clf, 'clf.pickle')"
   ]
  },
  {
   "cell_type": "code",
   "execution_count": null,
   "id": "bcdeac4b-26b5-45bb-b43b-9d8af88e4820",
   "metadata": {},
   "outputs": [],
   "source": [
    "pickle.dumps(['foobarbaz'], pickle.HIGHEST_PROTOCOL)"
   ]
  }
 ],
 "metadata": {
  "kernelspec": {
   "display_name": "Python 3 (ipykernel)",
   "language": "python",
   "name": "python3"
  },
  "language_info": {
   "codemirror_mode": {
    "name": "ipython",
    "version": 3
   },
   "file_extension": ".py",
   "mimetype": "text/x-python",
   "name": "python",
   "nbconvert_exporter": "python",
   "pygments_lexer": "ipython3",
   "version": "3.9.7"
  }
 },
 "nbformat": 4,
 "nbformat_minor": 5
}
